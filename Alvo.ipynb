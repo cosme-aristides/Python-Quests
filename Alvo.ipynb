{
 "cells": [
  {
   "cell_type": "markdown",
   "metadata": {},
   "source": [
    "# Encontrar par de números numa lista que somem um valor dado."
   ]
  },
  {
   "cell_type": "markdown",
   "metadata": {},
   "source": [
    "Dado um array de números inteiros, retorne os índices dos dois números de forma que eles se\n",
    "somem a um alvo específico.\n",
    "Você pode assumir que cada entrada teria exatamente uma solução, e você não pode usar o\n",
    "mesmo elemento duas vezes.\n",
    "Exemplo:\n",
    "Dado nums = [2, 7, 11, 15], alvo = 9,\n",
    "Como nums[0] + nums[1] = 2 + 7 = 9,\n",
    "return [0, 1]."
   ]
  },
  {
   "cell_type": "code",
   "execution_count": 1,
   "metadata": {},
   "outputs": [
    {
     "name": "stdout",
     "output_type": "stream",
     "text": [
      "[[0, 6]]\n"
     ]
    }
   ],
   "source": [
    "def Alvos(dado, alvo):\n",
    "    res = []\n",
    "    i = 0    \n",
    "    \n",
    "    while i < len(dado):        \n",
    "        corte = dado[i + 1:]\n",
    "        parcela_alvo = alvo - dado[i]\n",
    "        count_parcela = corte.count(parcela_alvo)\n",
    "        i2 = 0\n",
    "        s = i + 1\n",
    "        for p in range(0, count_parcela):\n",
    "            icorte = corte.index(parcela_alvo) + s\n",
    "            i2 += icorte\n",
    "            Ipar_alvo = [i, i2]\n",
    "            corte = corte[corte.index(parcela_alvo) + 1:]\n",
    "            s = 1\n",
    "            res.append(Ipar_alvo)\n",
    "        i += 1\n",
    "    return res\n",
    "\n",
    "print(Alvos ([2, 25, 11, 15, 11, 15, 7, 11], 9))"
   ]
  }
 ],
 "metadata": {
  "kernelspec": {
   "display_name": "Python 3",
   "language": "python",
   "name": "python3"
  },
  "language_info": {
   "codemirror_mode": {
    "name": "ipython",
    "version": 3
   },
   "file_extension": ".py",
   "mimetype": "text/x-python",
   "name": "python",
   "nbconvert_exporter": "python",
   "pygments_lexer": "ipython3",
   "version": "3.6.5"
  }
 },
 "nbformat": 4,
 "nbformat_minor": 2
}
