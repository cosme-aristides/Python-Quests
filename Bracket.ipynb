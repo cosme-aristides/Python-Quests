{
 "cells": [
  {
   "cell_type": "markdown",
   "metadata": {},
   "source": [
    "# Determinar se uma determinada sequência de brackets é balanceada."
   ]
  },
  {
   "cell_type": "markdown",
   "metadata": {},
   "source": [
    "Um bracket é considerado qualquer um dos seguintes caracteres: (, ), {, }, [ ou ].\n",
    "Dois brackets são considerados um par combinado se o bracket de abertura (isto é, (, [ou {) ocorre à esquerda de um\n",
    "bracket de fechamento (ou seja,),] ou} do mesmo tipo exato. Existem três tipos de pares de brackets : [], {} e ().\n",
    "Um par de brackets correspondente não é balanceado se o de abertura e o de fechamento não corresponderem entre\n",
    "si. Por exemplo, {[(])} não é balanceado porque o conteúdo entre {e} não é balanceado. O primeiro bracket inclui o\n",
    "de abertura, (, e o segundo inclui um bracket de fechamento desbalanceado,].\n",
    "Dado sequencias de caracteres, determine se cada sequência de brackets é balanceada. Se uma string estiver\n",
    "balanceada, retorne SIM. Caso contrário, retorne NAO.\n",
    "Exemplo:\n",
    "{[()]} SIM\n",
    "{[(])} NAO\n",
    "{{[[(())]]}} SIM"
   ]
  },
  {
   "cell_type": "code",
   "execution_count": 3,
   "metadata": {},
   "outputs": [
    {
     "name": "stdout",
     "output_type": "stream",
     "text": [
      "SIM\n"
     ]
    }
   ],
   "source": [
    "def Bracket(bra):\n",
    "    if len(bra)%2 == 0:       \n",
    "        pares = ['(',')','{','}','[',']']\n",
    "        bal = 'SIM'\n",
    "        ket = int(len(bra)/2)\n",
    "        for b in range(0,ket):\n",
    "            ab = pares.index(bra[b])\n",
    "            fb = pares[ab+1]            \n",
    "            if fb != bra[len(bra)-1-b]:\n",
    "                bal = 'NAO'\n",
    "                break \n",
    "    else:\n",
    "        bal = 'NAO'\n",
    "    return bal\n",
    "\n",
    "print(Bracket('{{[[(())]]}}'))"
   ]
  }
 ],
 "metadata": {
  "kernelspec": {
   "display_name": "Python 3",
   "language": "python",
   "name": "python3"
  },
  "language_info": {
   "codemirror_mode": {
    "name": "ipython",
    "version": 3
   },
   "file_extension": ".py",
   "mimetype": "text/x-python",
   "name": "python",
   "nbconvert_exporter": "python",
   "pygments_lexer": "ipython3",
   "version": "3.6.5"
  }
 },
 "nbformat": 4,
 "nbformat_minor": 2
}
