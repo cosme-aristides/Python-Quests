{
 "cells": [
  {
   "cell_type": "markdown",
   "metadata": {},
   "source": [
    "#  Encontrar o lucro máximo numa transação de compra e venda de ação."
   ]
  },
  {
   "cell_type": "markdown",
   "metadata": {},
   "source": [
    "Digamos que você tenha um array para o qual o elemento i é o preço de uma determinada ação\n",
    "no dia i.\n",
    "Se você tivesse permissão para concluir no máximo uma transação (ou seja, comprar uma e\n",
    "vender uma ação), crie um algoritmo para encontrar o lucro máximo.\n",
    "Note que você não pode vender uma ação antes de comprar.\n",
    "Exemplo:\n",
    "Input: [7,1,5,3,6,4]\n",
    "Output: 5 (Comprou no dia 2 (preço igual a 1) e vendeu no dia 5 (preço igual\n",
    "a 6), lucro foi de 6 – 1 = 5\n",
    "Input: [7,6,4,3,1]\n",
    "Output: 0 (Nesse caso nenhuma transação deve ser feita, lucro máximo igual a\n",
    "0)"
   ]
  },
  {
   "cell_type": "code",
   "execution_count": 4,
   "metadata": {},
   "outputs": [
    {
     "name": "stdout",
     "output_type": "stream",
     "text": [
      "5\n"
     ]
    }
   ],
   "source": [
    "def Acao(st):\n",
    "    mino = min(st)\n",
    "    maxo = max(st)    \n",
    "    while st.index(mino) > st.index(maxo):\n",
    "        st.remove(maxo)\n",
    "        maxo = max(st)\n",
    "    lucro = maxo - mino\n",
    "    return lucro\n",
    "\n",
    "print(Acao([7,1,5,3,6,4]))"
   ]
  }
 ],
 "metadata": {
  "kernelspec": {
   "display_name": "Python 3",
   "language": "python",
   "name": "python3"
  },
  "language_info": {
   "codemirror_mode": {
    "name": "ipython",
    "version": 3
   },
   "file_extension": ".py",
   "mimetype": "text/x-python",
   "name": "python",
   "nbconvert_exporter": "python",
   "pygments_lexer": "ipython3",
   "version": "3.6.5"
  }
 },
 "nbformat": 4,
 "nbformat_minor": 2
}
