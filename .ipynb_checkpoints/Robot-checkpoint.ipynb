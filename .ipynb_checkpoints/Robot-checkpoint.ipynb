{
 "cells": [
  {
   "cell_type": "markdown",
   "metadata": {},
   "source": [
    "## Implementar um algoritmo para mover um robô do canto superior esquerdo para o canto inferior direito de uma grade."
   ]
  },
  {
   "cell_type": "markdown",
   "metadata": {},
   "source": [
    "## Premissas\n",
    "\n",
    "* Existem restrições de como o robô se move?\n",
    "     * O robô só pode se mover para a direita e para baixo\n",
    "* Algumas células são inválidas (fora dos limites)?\n",
    "     * Sim\n",
    "* Podemos supor que as células inicial e final são células válidas?\n",
    "     * Sim\n",
    "* Isso é uma grade retangular? ou seja, a grade não é irregular?\n",
    "     * Sim\n",
    "* Haverá sempre uma maneira válida para o robô chegar ao canto inferior direito?\n",
    "     * Não, retorno None\n",
    "* Podemos assumir que as entradas são válidas?\n",
    "     * Não\n",
    "* Podemos supor que isso se encaixa na memória?\n",
    "     * Sim"
   ]
  },
  {
   "cell_type": "markdown",
   "metadata": {},
   "source": [
    "## Teste Cases\n",
    "\n",
    "<pre>\n",
    "o = célula válida\n",
    "x = célula inválida\n",
    "\n",
    "   0  1  2  3\n",
    "0  o  o  o  o\n",
    "1  o  x  o  o\n",
    "2  o  o  x  o\n",
    "3  x  o  o  o\n",
    "4  o  o  x  o\n",
    "5  o  o  o  x\n",
    "6  o  x  o  x\n",
    "7  o  x  o  o\n",
    "</pre>\n",
    "\n",
    "* Caso geral\n",
    "\n",
    "```\n",
    "Saída esperada = [(0, 0), (1, 0), (2, 0),\n",
    "                  (2, 1), (3, 1), (4, 1),\n",
    "                  (5, 1), (5, 2), (6, 2), \n",
    "                  (7, 2), (7, 3)]"
   ]
  },
  {
   "cell_type": "markdown",
   "metadata": {},
   "source": [
    "## Solução"
   ]
  },
  {
   "cell_type": "markdown",
   "metadata": {},
   "source": [
    "A matriz acima é convertida em uma tabela onde as linhas são substrações das coordenadas e as colunas suas somas."
   ]
  },
  {
   "attachments": {
    "pathB.png": {
     "image/png": "[encoded data removed]"
    }
   },
   "cell_type": "markdown",
   "metadata": {},
   "source": [
    "![https://geeky-id.com.br/python/pathB.png](attachment:pathB.png)"
   ]
  },
  {
   "cell_type": "code",
   "execution_count": 1,
   "metadata": {},
   "outputs": [],
   "source": [
    "max_rows = 8\n",
    "max_cols = 4\n",
    "matrix = [[1] * max_cols for _ in range(max_rows)]\n",
    "matrix[1][1] = 0\n",
    "matrix[2][2] = 0\n",
    "matrix[3][0] = 0\n",
    "matrix[4][2] = 0\n",
    "matrix[5][3] = 0\n",
    "matrix[6][1] = 0\n",
    "matrix[6][3] = 0\n",
    "matrix[7][1] = 0"
   ]
  },
  {
   "cell_type": "code",
   "execution_count": 3,
   "metadata": {},
   "outputs": [
    {
     "name": "stdout",
     "output_type": "stream",
     "text": [
      "[(0, 0), (1, 0), (2, 0), (2, 1), (3, 1), (4, 1), (5, 1), (5, 2), (6, 2), (7, 2), (7, 3)]\n"
     ]
    }
   ],
   "source": [
    "class Grid(object):\n",
    "\n",
    "    def find_path(self, matrix):        \n",
    "        cam = [(0,0)]\n",
    "        steps = len(matrix) + len(matrix[0])-1\n",
    "        for s in range(1, steps):\n",
    "            for c in range(0, len(matrix[0])):\n",
    "                for l in range(0, len(matrix)):   \n",
    "                    if l + c == s:\n",
    "                        if matrix[l][c]:\n",
    "                            cell = (l, c)                            \n",
    "                            if cell[0] == cam[len(cam)-1][0] and cam[len(cam)-1][1] == cell[1] - 1 or cell[1] == cam[len(cam)-1][1] and cam[len(cam)-1][0] == cell[0] - 1:\n",
    "                                cam.append(cell)\n",
    "        return cam\n",
    "\n",
    "grid = Grid()\n",
    "result = grid.find_path(matrix)\n",
    "print(result)"
   ]
  }
 ],
 "metadata": {
  "kernelspec": {
   "display_name": "Python 3",
   "language": "python",
   "name": "python3"
  },
  "language_info": {
   "codemirror_mode": {
    "name": "ipython",
    "version": 3
   },
   "file_extension": ".py",
   "mimetype": "text/x-python",
   "name": "python",
   "nbconvert_exporter": "python",
   "pygments_lexer": "ipython3",
   "version": "3.6.5"
  }
 },
 "nbformat": 4,
 "nbformat_minor": 1
}
