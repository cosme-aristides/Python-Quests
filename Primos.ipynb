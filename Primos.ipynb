{
 "cells": [
  {
   "cell_type": "markdown",
   "metadata": {},
   "source": [
    "# Gerar uma lista de números primos."
   ]
  },
  {
   "cell_type": "markdown",
   "metadata": {},
   "source": [
    "## Algoritmo\n",
    "\n",
    "Para um número ser primo, ele deve ser 2 ou maior e não pode ser divisível por outro número diferente de si mesmo (e 1).\n",
    "\n",
    "Todos os números não-primos são divisíveis por um número primo.\n",
    "\n",
    "* Use uma matriz (array) para manter o controle de cada número inteiro até o máximo\n",
    "\n",
    "Animação do Wikipedia:\n",
    "\n",
    "![alt text](https://upload.wikimedia.org/wikipedia/commons/b/b9/Sieve_of_Eratosthenes_animation.gif)"
   ]
  },
  {
   "cell_type": "markdown",
   "metadata": {},
   "source": [
    "## Solução"
   ]
  },
  {
   "cell_type": "code",
   "execution_count": 16,
   "metadata": {},
   "outputs": [
    {
     "name": "stdout",
     "output_type": "stream",
     "text": [
      "[2, 3, 5, 7, 11, 13, 17, 19, 23, 29, 31, 37, 41, 43, 47, 53, 59, 61, 67, 71, 73, 79, 83, 89, 97, 101, 103, 107, 109, 113, 127, 131, 137, 139, 149]\n"
     ]
    }
   ],
   "source": [
    "import math\n",
    "\n",
    "class PrimeGenerator(object):\n",
    "\n",
    "    def generate_primes(self, max_num):\n",
    "        primos = [] \n",
    "        nprimo = [2, 3]\n",
    "        primo = [2] \n",
    "        p = 1\n",
    "        for n in range(0, max_num):\n",
    "            d = True\n",
    "            if (nprimo[p])**2 == n:\n",
    "                primo.append(nprimo[p])\n",
    "                p += 1\n",
    "            \n",
    "            for i in primo:\n",
    "                if n % i == 0 or n < 2: \n",
    "                    if n not in primo:\n",
    "                        d = False\n",
    "                        break\n",
    "            \n",
    "            if n > 3 and d == True:                \n",
    "                nprimo.append(n)\n",
    "        return nprimo\n",
    "    \n",
    "prime_generator = PrimeGenerator()\n",
    "print(prime_generator.generate_primes(150))"
   ]
  }
 ],
 "metadata": {
  "kernelspec": {
   "display_name": "Python 3",
   "language": "python",
   "name": "python3"
  },
  "language_info": {
   "codemirror_mode": {
    "name": "ipython",
    "version": 3
   },
   "file_extension": ".py",
   "mimetype": "text/x-python",
   "name": "python",
   "nbconvert_exporter": "python",
   "pygments_lexer": "ipython3",
   "version": "3.6.5"
  }
 },
 "nbformat": 4,
 "nbformat_minor": 1
}
