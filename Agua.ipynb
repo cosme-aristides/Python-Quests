{
 "cells": [
  {
   "cell_type": "markdown",
   "metadata": {},
   "source": [
    "# Calcular quantos metros cúbicos de água no máximo será retido entre blocos após uma chuva."
   ]
  },
  {
   "cell_type": "markdown",
   "metadata": {},
   "source": [
    "Dados n inteiros não negativos representando um mapa de elevação onde blocos de 1 m2 são colocados em linha entre duas paredes de vidro e depois alguns são retirados deixando espaço para acumular água. Calcule quantos metros cúbicos de água no máximo será retido após uma chuva.\n",
    "Exemplo:\n",
    "Input: [0,1,0,2,1,0,1,3,2,1,2,1]\n",
    "Output: 6"
   ]
  },
  {
   "cell_type": "markdown",
   "metadata": {},
   "source": [
    "![alt text](https://geeky-id.com.br/python/agua.png)"
   ]
  },
  {
   "cell_type": "code",
   "execution_count": 5,
   "metadata": {},
   "outputs": [
    {
     "name": "stdout",
     "output_type": "stream",
     "text": [
      "6\n"
     ]
    }
   ],
   "source": [
    "def Agua(input):\n",
    "    a = 0    \n",
    "    for ni in range(0,max(input)):\n",
    "        for p in range(0,len(input)):\n",
    "            if input[p]>ni:\n",
    "                c = p\n",
    "                break\n",
    "        for p in range(len(input)-1, 0, -1):\n",
    "            if input[p]>ni:\n",
    "                f = p\n",
    "                break\n",
    "        s = input[c:f+1]\n",
    "        #print(s)\n",
    "        for na in range(0,ni+1):\n",
    "            a += s.count(na)\n",
    "    return a\n",
    "\n",
    "print(Agua([0,1,0,2,1,0,1,3,2,1,2,1]))"
   ]
  },
  {
   "cell_type": "code",
   "execution_count": null,
   "metadata": {},
   "outputs": [],
   "source": []
  }
 ],
 "metadata": {
  "kernelspec": {
   "display_name": "Python 3",
   "language": "python",
   "name": "python3"
  },
  "language_info": {
   "codemirror_mode": {
    "name": "ipython",
    "version": 3
   },
   "file_extension": ".py",
   "mimetype": "text/x-python",
   "name": "python",
   "nbconvert_exporter": "python",
   "pygments_lexer": "ipython3",
   "version": "3.6.5"
  }
 },
 "nbformat": 4,
 "nbformat_minor": 2
}
